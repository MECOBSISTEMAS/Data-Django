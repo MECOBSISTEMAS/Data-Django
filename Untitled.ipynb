{
 "cells": [
  {
   "cell_type": "code",
   "execution_count": 10,
   "id": "06708307",
   "metadata": {},
   "outputs": [
    {
     "name": "stdout",
     "output_type": "stream",
     "text": [
      " O volume na unidade C nÆo tem nome.\n",
      " O N£mero de S‚rie do Volume ‚ 9AF1-0ECE\n",
      "\n",
      " Pasta de C:\\Users\\user\\Desktop\\Coisas\\Programacao\\Python\\Django\\Data-Django\\Data-Django\n",
      "\n",
      "11/02/2023  09:56    <DIR>          .\n",
      "06/02/2023  11:03    <DIR>          ..\n",
      "07/02/2023  15:34               474 .env\n",
      "06/02/2023  11:03               404 .gitignore\n",
      "11/02/2023  09:54    <DIR>          .ipynb_checkpoints\n",
      "08/02/2023  13:44    <DIR>          .vscode\n",
      "07/02/2023  15:05                21 activate.ps1\n",
      "06/02/2023  11:09    <DIR>          apps\n",
      "06/02/2023  11:03             2.471 CHANGELOG.md\n",
      "06/02/2023  11:09    <DIR>          core\n",
      "07/02/2023  14:08           196.608 db.sqlite3\n",
      "06/02/2023  11:03               512 docker-compose.yml\n",
      "06/02/2023  11:03               386 Dockerfile\n",
      "06/02/2023  11:03               482 env.sample\n",
      "06/02/2023  11:03               209 gunicorn-cfg.py\n",
      "06/02/2023  11:03               920 LICENSE.md\n",
      "06/02/2023  11:03               632 log.json\n",
      "06/02/2023  11:03               631 manage.py\n",
      "06/02/2023  11:03    <DIR>          media\n",
      "06/02/2023  11:03    <DIR>          nginx\n",
      "06/02/2023  11:03               712 package.json\n",
      "06/02/2023  11:03             6.597 README.md\n",
      "11/02/2023  09:48             2.171 requirements.txt\n",
      "07/02/2023  15:04                24 start_server.ps1\n",
      "06/02/2023  11:03    <DIR>          staticfiles\n",
      "11/02/2023  09:56             9.211 Untitled.ipynb\n",
      "09/02/2023  13:03    <DIR>          venv\n",
      "              17 arquivo(s)        222.465 bytes\n",
      "              10 pasta(s)   79.411.716.096 bytes dispon¡veis\n"
     ]
    }
   ],
   "source": [
    "ls"
   ]
  },
  {
   "cell_type": "code",
   "execution_count": null,
   "id": "43df083e",
   "metadata": {},
   "outputs": [],
   "source": []
  },
  {
   "cell_type": "code",
   "execution_count": null,
   "id": "5a9de05c",
   "metadata": {},
   "outputs": [],
   "source": []
  },
  {
   "cell_type": "code",
   "execution_count": null,
   "id": "2ab1b2ab",
   "metadata": {},
   "outputs": [],
   "source": []
  }
 ],
 "metadata": {
  "kernelspec": {
   "display_name": "Django Shell-Plus",
   "language": "python",
   "name": "django_extensions"
  },
  "language_info": {
   "codemirror_mode": {
    "name": "ipython",
    "version": 3
   },
   "file_extension": ".py",
   "mimetype": "text/x-python",
   "name": "python",
   "nbconvert_exporter": "python",
   "pygments_lexer": "ipython3",
   "version": "3.11.0"
  }
 },
 "nbformat": 4,
 "nbformat_minor": 5
}
